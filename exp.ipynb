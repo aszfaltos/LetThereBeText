{
 "cells": [
  {
   "cell_type": "code",
   "execution_count": 1,
   "metadata": {},
   "outputs": [
    {
     "name": "stderr",
     "output_type": "stream",
     "text": [
      "/Users/aszfalt/Projects/LetThereBeText/.venv/lib/python3.12/site-packages/tqdm/auto.py:21: TqdmWarning: IProgress not found. Please update jupyter and ipywidgets. See https://ipywidgets.readthedocs.io/en/stable/user_install.html\n",
      "  from .autonotebook import tqdm as notebook_tqdm\n"
     ]
    }
   ],
   "source": [
    "import torch\n",
    "from transformers import AutoModelForMaskedLM, AutoTokenizer\n",
    "import torch\n",
    "from DDT.denoising_transformer import DenoisingDiffusionTransformer\n",
    "from DDT.noise_scheduling import SqrtNoiseSchedule\n",
    "from DDT.xlm_roberta_embeddings import XLMRobertaEmbeddings\n",
    "from datasets import load_dataset\n",
    "from DDT.fineweb_edu import HDF5ShardWriter, FinewebHDF5ShardDataset, dataset_tokenizer\n",
    "\n",
    "%reload_ext autoreload\n",
    "%autoreload 2"
   ]
  },
  {
   "cell_type": "code",
   "execution_count": 2,
   "metadata": {},
   "outputs": [
    {
     "name": "stderr",
     "output_type": "stream",
     "text": [
      "Some weights of the model checkpoint at xlm-roberta-large were not used when initializing XLMRobertaForMaskedLM: ['roberta.pooler.dense.bias', 'roberta.pooler.dense.weight']\n",
      "- This IS expected if you are initializing XLMRobertaForMaskedLM from the checkpoint of a model trained on another task or with another architecture (e.g. initializing a BertForSequenceClassification model from a BertForPreTraining model).\n",
      "- This IS NOT expected if you are initializing XLMRobertaForMaskedLM from the checkpoint of a model that you expect to be exactly identical (initializing a BertForSequenceClassification model from a BertForSequenceClassification model).\n"
     ]
    }
   ],
   "source": [
    "# Initialize the model and tokenizer\n",
    "model_name = \"xlm-roberta-large\"\n",
    "model = AutoModelForMaskedLM.from_pretrained(model_name)\n",
    "tokenizer = AutoTokenizer.from_pretrained(model_name)\n",
    "\n",
    "# Create an XLMRobertaEmbeddings instance and initialize its weights from the original XLM-Roberta\n",
    "model.config.max_time_steps = 2000\n",
    "embedding_layer = XLMRobertaEmbeddings(model.config)\n",
    "embedding_layer.from_pretrained(model.roberta.embeddings)\n",
    "\n",
    "# Create a DenoisingDiffusionTransformer model\n",
    "denoising_model = DenoisingDiffusionTransformer(\n",
    "    encoder=model.roberta.encoder,\n",
    "    embedding_layer=embedding_layer,\n",
    "    unembedding_layer=model.lm_head,\n",
    "    embedding_dim=model.config.hidden_size,\n",
    "    max_seq_len=model.config.max_position_embeddings,\n",
    "    context_len=128,\n",
    "    pred_len=128,\n",
    "    sep_token=tokenizer.sep_token_id,\n",
    "    bos_token=tokenizer.bos_token_id,\n",
    "    pad_token=tokenizer.pad_token_id,\n",
    "    prediction_steps=10,\n",
    "    noise_schedule=SqrtNoiseSchedule(2000)\n",
    ")"
   ]
  },
  {
   "cell_type": "code",
   "execution_count": 3,
   "metadata": {},
   "outputs": [
    {
     "name": "stdout",
     "output_type": "stream",
     "text": [
      "{'input_ids': tensor([[   0, 6422, 7986,    2]]), 'attention_mask': tensor([[1, 1, 1, 1]])}\n",
      "</s><pad><pad><pad><pad><pad><pad><pad><pad><pad><pad><pad><pad><pad><pad><pad><pad><pad><pad><pad><pad><pad><pad><pad><pad><pad><pad><pad><pad><pad><pad><pad>\n"
     ]
    }
   ],
   "source": [
    "prompt = \"Previous text\"\n",
    "inputs = tokenizer(prompt, return_tensors=\"pt\", padding=True, padding_side=\"left\")\n",
    "print(inputs)\n",
    "\n",
    "# Now let's use the denoising model\n",
    "pred = denoising_model.generate(inputs[\"input_ids\"], 32, denoise_steps=10)\n",
    "\n",
    "print(tokenizer.decode(pred[0]))"
   ]
  },
  {
   "cell_type": "code",
   "execution_count": 4,
   "metadata": {},
   "outputs": [
    {
     "name": "stdout",
     "output_type": "stream",
     "text": [
      "torch.Size([4, 128])\n"
     ]
    },
    {
     "name": "stderr",
     "output_type": "stream",
     "text": [
      "/Users/aszfalt/Projects/LetThereBeText/.venv/lib/python3.12/site-packages/lightning/pytorch/core/module.py:441: You are trying to `self.log()` but the `self.trainer` reference is not registered on the model yet. This is most likely because the model hasn't been passed to the `Trainer`\n"
     ]
    },
    {
     "name": "stdout",
     "output_type": "stream",
     "text": [
      "Training loss: tensor(10.1657, grad_fn=<DivBackward0>)\n",
      "Evaluation loss: tensor(10.1033, grad_fn=<AddBackward0>)\n",
      "Evaluation accuracy: tensor(0.0273)\n",
      "Test loss: tensor(2.7817, grad_fn=<AddBackward0>)\n",
      "Test accuracy: tensor(0.8672)\n",
      "Prediction: {'loss': tensor(12.7001, grad_fn=<AddBackward0>), 'ppl': tensor(47252.1836, dtype=torch.float64), 'acc': tensor(0.0137)}\n",
      "Generated sequence: tensor([[2, 1, 1, 1, 1, 1, 1, 1, 1, 1, 1, 1, 1, 1, 1, 1, 1, 1, 1, 1]])\n"
     ]
    }
   ],
   "source": [
    "# Define a batch\n",
    "batch_size = 4\n",
    "batch = (\n",
    "    torch.cat([\n",
    "        torch.ones((batch_size, 1), dtype=torch.long) * tokenizer.bos_token_id,  # bos token\n",
    "        torch.randint(0, 100, (batch_size, 126)),  # sequence 128 - 2 special tokens\n",
    "        torch.ones((batch_size, 1), dtype=torch.long) * tokenizer.sep_token_id  # sep token\n",
    "    ], dim=-1),  # context (bos - seq - sep)\n",
    "    torch.cat([\n",
    "        torch.randint(0, 100, (batch_size, 127)),  # sequence 128 - 1 special tokens\n",
    "        torch.ones((batch_size, 1), dtype=torch.long) * tokenizer.sep_token_id  # sep token and pad token\n",
    "    ], dim=-1),  # x_0 (seq - sep - pad)\n",
    "    torch.ones((batch_size, 128), dtype=torch.long),  # context mask\n",
    "    torch.ones((batch_size, 128), dtype=torch.long)  # x mask\n",
    ")\n",
    "print(batch[1].shape)\n",
    "\n",
    "# Test the training step\n",
    "loss = denoising_model.training_step(batch, 0)\n",
    "print(\"Training loss:\", loss[\"loss\"])\n",
    "\n",
    "# Test the evaluation step\n",
    "eval_result = denoising_model.evaluation_step(batch, 0)\n",
    "print(\"Evaluation loss:\", eval_result[\"loss\"])\n",
    "print(\"Evaluation accuracy:\", eval_result[\"acc\"])\n",
    "\n",
    "# Test the test step\n",
    "test_result = denoising_model.test_step(batch, 0)\n",
    "print(\"Test loss:\", test_result[\"loss\"])\n",
    "print(\"Test accuracy:\", test_result[\"acc\"])\n",
    "\n",
    "# Test the prediction step\n",
    "prediction = denoising_model.predict_step(batch, 0)\n",
    "print(\"Prediction:\", prediction)\n",
    "\n",
    "# Test the generate method\n",
    "input_ids = torch.randint(0, 100, (1, 10))  # input_ids\n",
    "generated_sequence = denoising_model.generate(input_ids, 20)\n",
    "print(\"Generated sequence:\", generated_sequence)"
   ]
  },
  {
   "cell_type": "code",
   "execution_count": 5,
   "metadata": {},
   "outputs": [
    {
     "name": "stderr",
     "output_type": "stream",
     "text": [
      "huggingface/tokenizers: The current process just got forked, after parallelism has already been used. Disabling parallelism to avoid deadlocks...\n",
      "To disable this warning, you can either:\n",
      "\t- Avoid using `tokenizers` before the fork if possible\n",
      "\t- Explicitly set the environment variable TOKENIZERS_PARALLELISM=(true | false)\n",
      "huggingface/tokenizers: The current process just got forked, after parallelism has already been used. Disabling parallelism to avoid deadlocks...\n",
      "To disable this warning, you can either:\n",
      "\t- Avoid using `tokenizers` before the fork if possible\n",
      "\t- Explicitly set the environment variable TOKENIZERS_PARALLELISM=(true | false)\n"
     ]
    }
   ],
   "source": [
    "\n",
    "fineweb_edu = load_dataset(\"HuggingFaceFW/fineweb-edu\", name=\"sample-10BT\", split=\"train\", streaming=True)"
   ]
  },
  {
   "cell_type": "code",
   "execution_count": 6,
   "metadata": {},
   "outputs": [
    {
     "name": "stderr",
     "output_type": "stream",
     "text": [
      "'(MaxRetryError(\"HTTPSConnectionPool(host='cdn-lfs-us-1.hf.co', port=443): Max retries exceeded with url: /repos/f9/62/f9624802c1be2232e6fec88964f9dacb3400085637511885c4340451d91ef958/b1ba7b2ce4cb5ea6ef42dca40263eabb85f37700d01693a68e9b30a31d78e871?response-content-disposition=inline%3B+filename*%3DUTF-8%27%27000_00000.parquet%3B+filename%3D%22000_00000.parquet%22%3B&Expires=1744461559&Policy=eyJTdGF0ZW1lbnQiOlt7IkNvbmRpdGlvbiI6eyJEYXRlTGVzc1RoYW4iOnsiQVdTOkVwb2NoVGltZSI6MTc0NDQ2MTU1OX19LCJSZXNvdXJjZSI6Imh0dHBzOi8vY2RuLWxmcy11cy0xLmhmLmNvL3JlcG9zL2Y5LzYyL2Y5NjI0ODAyYzFiZTIyMzJlNmZlYzg4OTY0ZjlkYWNiMzQwMDA4NTYzNzUxMTg4NWM0MzQwNDUxZDkxZWY5NTgvYjFiYTdiMmNlNGNiNWVhNmVmNDJkY2E0MDI2M2VhYmI4NWYzNzcwMGQwMTY5M2E2OGU5YjMwYTMxZDc4ZTg3MT9yZXNwb25zZS1jb250ZW50LWRpc3Bvc2l0aW9uPSoifV19&Signature=CMGbGEnOJjC4EHz2lUwHv8M7QSmwIJJMUeh6iaUZQ8DHB8RkMjpT6xwTCmn5SdNR04zf2eMR3805bUev7N5Fc7cG~DZdqt9wQA7bfgELdTWYhYdXU4OIZ5~IKkTgWmnow~zw4qA4XCjcNw0fu~OI-wLzXTePF4eJVkfVi-h~LgBpm1TRsiyO9lBwBtR0b1cotWXSnt25Lp3bBXDMNXKt1NZhsiej18qxLvMDedb~Pahc1CmijR-51XHCo8r~sb5xMbeQ5DGBoa77PEDKXlUNvgdgeqRktkn7uDw4UikIsOcTxevgMzTmEqmd7M2EK7Bo5NfGdcnbWjxEvCjMFyucvw__&Key-Pair-Id=K24J24Z295AEI9 (Caused by NewConnectionError('<urllib3.connection.HTTPSConnection object at 0x48ff3c5c0>: Failed to establish a new connection: [Errno 61] Connection refused'))\"), '(Request ID: de301164-868f-48df-8b92-73e1aa715363)')' thrown while requesting GET https://huggingface.co/datasets/HuggingFaceFW/fineweb-edu/resolve/4863ab07d7520451e6f73e2912ad8bfee7d97c11/sample/10BT/000_00000.parquet\n",
      "Retrying in 1s [Retry 1/5].\n",
      "'(MaxRetryError(\"HTTPSConnectionPool(host='cdn-lfs-us-1.hf.co', port=443): Max retries exceeded with url: /repos/f9/62/f9624802c1be2232e6fec88964f9dacb3400085637511885c4340451d91ef958/b1ba7b2ce4cb5ea6ef42dca40263eabb85f37700d01693a68e9b30a31d78e871?response-content-disposition=inline%3B+filename*%3DUTF-8%27%27000_00000.parquet%3B+filename%3D%22000_00000.parquet%22%3B&Expires=1744461757&Policy=eyJTdGF0ZW1lbnQiOlt7IkNvbmRpdGlvbiI6eyJEYXRlTGVzc1RoYW4iOnsiQVdTOkVwb2NoVGltZSI6MTc0NDQ2MTc1N319LCJSZXNvdXJjZSI6Imh0dHBzOi8vY2RuLWxmcy11cy0xLmhmLmNvL3JlcG9zL2Y5LzYyL2Y5NjI0ODAyYzFiZTIyMzJlNmZlYzg4OTY0ZjlkYWNiMzQwMDA4NTYzNzUxMTg4NWM0MzQwNDUxZDkxZWY5NTgvYjFiYTdiMmNlNGNiNWVhNmVmNDJkY2E0MDI2M2VhYmI4NWYzNzcwMGQwMTY5M2E2OGU5YjMwYTMxZDc4ZTg3MT9yZXNwb25zZS1jb250ZW50LWRpc3Bvc2l0aW9uPSoifV19&Signature=Zx0eHkLfrlsFBucbOc6UsGFRLlTFdPenXtoFmSEgLZYCCGJN5nBSEPCQA-~LRArLLwl~PfIzpF9j7y~LNjukrzv77sd~rtzn00XBm~LkyKXOKFzF8V8iEuc7sqoSc9VNQM~C3vq2T4WouOeONw2WdWrhwR71AF3LlqHTY8dBX434-79IaznbtfwvGzNvjJ20B1Vd-gkOrrkcW2x6TeiACIIA~83OJzQOgQEjlzIw0tdIRMIPnK1CWxmXBDeVUw1IdzWDIE11HU9nSSOg16LFAyJL7QozlSQgsqkf1SdBhwOkCR7auDGI9BilmtCbCrQl~YpbBNxeFqV4DqBhh7Tb0A__&Key-Pair-Id=K24J24Z295AEI9 (Caused by NewConnectionError('<urllib3.connection.HTTPSConnection object at 0x48ff3c410>: Failed to establish a new connection: [Errno 61] Connection refused'))\"), '(Request ID: 9915268d-8c84-4fb3-a828-a4721277fc90)')' thrown while requesting GET https://huggingface.co/datasets/HuggingFaceFW/fineweb-edu/resolve/4863ab07d7520451e6f73e2912ad8bfee7d97c11/sample/10BT/000_00000.parquet\n",
      "Retrying in 2s [Retry 2/5].\n",
      "'(MaxRetryError(\"HTTPSConnectionPool(host='cdn-lfs-us-1.hf.co', port=443): Max retries exceeded with url: /repos/f9/62/f9624802c1be2232e6fec88964f9dacb3400085637511885c4340451d91ef958/b1ba7b2ce4cb5ea6ef42dca40263eabb85f37700d01693a68e9b30a31d78e871?response-content-disposition=inline%3B+filename*%3DUTF-8%27%27000_00000.parquet%3B+filename%3D%22000_00000.parquet%22%3B&Expires=1744461559&Policy=eyJTdGF0ZW1lbnQiOlt7IkNvbmRpdGlvbiI6eyJEYXRlTGVzc1RoYW4iOnsiQVdTOkVwb2NoVGltZSI6MTc0NDQ2MTU1OX19LCJSZXNvdXJjZSI6Imh0dHBzOi8vY2RuLWxmcy11cy0xLmhmLmNvL3JlcG9zL2Y5LzYyL2Y5NjI0ODAyYzFiZTIyMzJlNmZlYzg4OTY0ZjlkYWNiMzQwMDA4NTYzNzUxMTg4NWM0MzQwNDUxZDkxZWY5NTgvYjFiYTdiMmNlNGNiNWVhNmVmNDJkY2E0MDI2M2VhYmI4NWYzNzcwMGQwMTY5M2E2OGU5YjMwYTMxZDc4ZTg3MT9yZXNwb25zZS1jb250ZW50LWRpc3Bvc2l0aW9uPSoifV19&Signature=CMGbGEnOJjC4EHz2lUwHv8M7QSmwIJJMUeh6iaUZQ8DHB8RkMjpT6xwTCmn5SdNR04zf2eMR3805bUev7N5Fc7cG~DZdqt9wQA7bfgELdTWYhYdXU4OIZ5~IKkTgWmnow~zw4qA4XCjcNw0fu~OI-wLzXTePF4eJVkfVi-h~LgBpm1TRsiyO9lBwBtR0b1cotWXSnt25Lp3bBXDMNXKt1NZhsiej18qxLvMDedb~Pahc1CmijR-51XHCo8r~sb5xMbeQ5DGBoa77PEDKXlUNvgdgeqRktkn7uDw4UikIsOcTxevgMzTmEqmd7M2EK7Bo5NfGdcnbWjxEvCjMFyucvw__&Key-Pair-Id=K24J24Z295AEI9 (Caused by NewConnectionError('<urllib3.connection.HTTPSConnection object at 0x30ead8ef0>: Failed to establish a new connection: [Errno 61] Connection refused'))\"), '(Request ID: 6bf549fd-f1a7-4841-b813-3980ec9b77c4)')' thrown while requesting GET https://huggingface.co/datasets/HuggingFaceFW/fineweb-edu/resolve/4863ab07d7520451e6f73e2912ad8bfee7d97c11/sample/10BT/000_00000.parquet\n",
      "Retrying in 4s [Retry 3/5].\n",
      "Token indices sequence length is longer than the specified maximum sequence length for this model (883 > 512). Running this sequence through the model will result in indexing errors\n",
      "'(MaxRetryError(\"HTTPSConnectionPool(host='cdn-lfs-us-1.hf.co', port=443): Max retries exceeded with url: /repos/f9/62/f9624802c1be2232e6fec88964f9dacb3400085637511885c4340451d91ef958/b1ba7b2ce4cb5ea6ef42dca40263eabb85f37700d01693a68e9b30a31d78e871?response-content-disposition=inline%3B+filename*%3DUTF-8%27%27000_00000.parquet%3B+filename%3D%22000_00000.parquet%22%3B&Expires=1744463207&Policy=eyJTdGF0ZW1lbnQiOlt7IkNvbmRpdGlvbiI6eyJEYXRlTGVzc1RoYW4iOnsiQVdTOkVwb2NoVGltZSI6MTc0NDQ2MzIwN319LCJSZXNvdXJjZSI6Imh0dHBzOi8vY2RuLWxmcy11cy0xLmhmLmNvL3JlcG9zL2Y5LzYyL2Y5NjI0ODAyYzFiZTIyMzJlNmZlYzg4OTY0ZjlkYWNiMzQwMDA4NTYzNzUxMTg4NWM0MzQwNDUxZDkxZWY5NTgvYjFiYTdiMmNlNGNiNWVhNmVmNDJkY2E0MDI2M2VhYmI4NWYzNzcwMGQwMTY5M2E2OGU5YjMwYTMxZDc4ZTg3MT9yZXNwb25zZS1jb250ZW50LWRpc3Bvc2l0aW9uPSoifV19&Signature=OilCVqIqE33IJpgA5afA8hmhbodWuvOiHx0syQbmxVgcIh3cgwNP5MKcO5zEJntFOUNoeIMukNsIB~atbLn0tE0tf6mOZap3vyzHThvo4~ve~-1s-mjVsI9HMNeYUkQEdG2A0VRzSyLLEgR~4wVGWCto0d2-rPI3ZSRubvij2hgqIbIiqGN9eTNWf5CXBSC2xEPq1Rap-IoLOcquOTsz8tAlPRRVpSqNzoC6993WT1yvgElcdPmmoGEp~93g5Ivn3Oalg4ODPQL2DN6aSxCfSgnAAJtVc3iD6CpfWjWzMqSQk2O5dsyBOgUYWZ5~56DxXAJEuB7dgHD6SbbF8JvD~w__&Key-Pair-Id=K24J24Z295AEI9 (Caused by NewConnectionError('<urllib3.connection.HTTPSConnection object at 0x30e8c9d00>: Failed to establish a new connection: [Errno 61] Connection refused'))\"), '(Request ID: b4ba10bf-d959-4186-9106-d629d900f898)')' thrown while requesting GET https://huggingface.co/datasets/HuggingFaceFW/fineweb-edu/resolve/4863ab07d7520451e6f73e2912ad8bfee7d97c11/sample/10BT/000_00000.parquet\n",
      "Retrying in 1s [Retry 1/5].\n",
      "'(MaxRetryError(\"HTTPSConnectionPool(host='cdn-lfs-us-1.hf.co', port=443): Max retries exceeded with url: /repos/f9/62/f9624802c1be2232e6fec88964f9dacb3400085637511885c4340451d91ef958/b1ba7b2ce4cb5ea6ef42dca40263eabb85f37700d01693a68e9b30a31d78e871?response-content-disposition=inline%3B+filename*%3DUTF-8%27%27000_00000.parquet%3B+filename%3D%22000_00000.parquet%22%3B&Expires=1744463249&Policy=eyJTdGF0ZW1lbnQiOlt7IkNvbmRpdGlvbiI6eyJEYXRlTGVzc1RoYW4iOnsiQVdTOkVwb2NoVGltZSI6MTc0NDQ2MzI0OX19LCJSZXNvdXJjZSI6Imh0dHBzOi8vY2RuLWxmcy11cy0xLmhmLmNvL3JlcG9zL2Y5LzYyL2Y5NjI0ODAyYzFiZTIyMzJlNmZlYzg4OTY0ZjlkYWNiMzQwMDA4NTYzNzUxMTg4NWM0MzQwNDUxZDkxZWY5NTgvYjFiYTdiMmNlNGNiNWVhNmVmNDJkY2E0MDI2M2VhYmI4NWYzNzcwMGQwMTY5M2E2OGU5YjMwYTMxZDc4ZTg3MT9yZXNwb25zZS1jb250ZW50LWRpc3Bvc2l0aW9uPSoifV19&Signature=IrY76XDrRi9UkWHuxeEJY96xikF-E5Xu5wfNkQ~xoEogt71Nl2mpa7WcCOhE5IF5m0gcXib4Su2EzXvmq~omv6iV3FCJbIXSBg9X-Tx~-32o93uKfHWXaJDjmk1aVkNspvANJHFNBsZQZeOTsPKQUna31IAWtIIf5CnDaIoAjBMzL-U2pH5nwikrgkqZ6p8CJ3OwmLOFEe~oBSZHeCQ7h4bG-8cd5JtA9hbPtTf57g-qjKJQ8uYdFn~9L3AuGJlHCLAzCI07-KDd~FIYCpijXzfW~xDYlzmaoVWu5aMvz0MqwUwuuF0NTlfslCDYtxwA6b0TCzG~hjSaL4AzOspVew__&Key-Pair-Id=K24J24Z295AEI9 (Caused by NewConnectionError('<urllib3.connection.HTTPSConnection object at 0x48ff93020>: Failed to establish a new connection: [Errno 61] Connection refused'))\"), '(Request ID: cf1fcfda-97c8-48bf-aa95-fe4bd5b07582)')' thrown while requesting GET https://huggingface.co/datasets/HuggingFaceFW/fineweb-edu/resolve/4863ab07d7520451e6f73e2912ad8bfee7d97c11/sample/10BT/000_00000.parquet\n",
      "Retrying in 2s [Retry 2/5].\n",
      "'(MaxRetryError(\"HTTPSConnectionPool(host='cdn-lfs-us-1.hf.co', port=443): Max retries exceeded with url: /repos/f9/62/f9624802c1be2232e6fec88964f9dacb3400085637511885c4340451d91ef958/b1ba7b2ce4cb5ea6ef42dca40263eabb85f37700d01693a68e9b30a31d78e871?response-content-disposition=inline%3B+filename*%3DUTF-8%27%27000_00000.parquet%3B+filename%3D%22000_00000.parquet%22%3B&Expires=1744463586&Policy=eyJTdGF0ZW1lbnQiOlt7IkNvbmRpdGlvbiI6eyJEYXRlTGVzc1RoYW4iOnsiQVdTOkVwb2NoVGltZSI6MTc0NDQ2MzU4Nn19LCJSZXNvdXJjZSI6Imh0dHBzOi8vY2RuLWxmcy11cy0xLmhmLmNvL3JlcG9zL2Y5LzYyL2Y5NjI0ODAyYzFiZTIyMzJlNmZlYzg4OTY0ZjlkYWNiMzQwMDA4NTYzNzUxMTg4NWM0MzQwNDUxZDkxZWY5NTgvYjFiYTdiMmNlNGNiNWVhNmVmNDJkY2E0MDI2M2VhYmI4NWYzNzcwMGQwMTY5M2E2OGU5YjMwYTMxZDc4ZTg3MT9yZXNwb25zZS1jb250ZW50LWRpc3Bvc2l0aW9uPSoifV19&Signature=bX3NuqZo2pkk7LLBeqxJl6DMB8Af9FvX0RIl1fY4PawFSaZXZgr-a9vO8kVPyuWEkX1Lyr6RzDvIN4UUYSJqiMiq1a57Gt0gaviCTVDDLAEsEtL7bYk5inBkfTsRlYgS0LHesffQvc8~Z3D2HwqGSDCvV09nYLPIZ4~V5U4W07dRQWZ4SXUZjCs6cvYpfxQfL99aIGK7MZn664Wv5zR4ePyudXKHs64p~cgYYvsKspAmWU8Uh4gYwMt4p1dVVo~khtjHZNg9ducQMS5IGpjkHhgcSo2ikVF0eCaIBz5PPHVxZX1R2PANf6wS~haovIgYv5vxD4XSvdw3Ysz3SMCpiQ__&Key-Pair-Id=K24J24Z295AEI9 (Caused by NewConnectionError('<urllib3.connection.HTTPSConnection object at 0x174dde780>: Failed to establish a new connection: [Errno 61] Connection refused'))\"), '(Request ID: 829d9bd9-ab1c-4028-9a2a-cfe306399258)')' thrown while requesting GET https://huggingface.co/datasets/HuggingFaceFW/fineweb-edu/resolve/4863ab07d7520451e6f73e2912ad8bfee7d97c11/sample/10BT/000_00000.parquet\n",
      "Retrying in 4s [Retry 3/5].\n",
      "'(MaxRetryError(\"HTTPSConnectionPool(host='cdn-lfs-us-1.hf.co', port=443): Max retries exceeded with url: /repos/f9/62/f9624802c1be2232e6fec88964f9dacb3400085637511885c4340451d91ef958/b1ba7b2ce4cb5ea6ef42dca40263eabb85f37700d01693a68e9b30a31d78e871?response-content-disposition=inline%3B+filename*%3DUTF-8%27%27000_00000.parquet%3B+filename%3D%22000_00000.parquet%22%3B&Expires=1744463319&Policy=eyJTdGF0ZW1lbnQiOlt7IkNvbmRpdGlvbiI6eyJEYXRlTGVzc1RoYW4iOnsiQVdTOkVwb2NoVGltZSI6MTc0NDQ2MzMxOX19LCJSZXNvdXJjZSI6Imh0dHBzOi8vY2RuLWxmcy11cy0xLmhmLmNvL3JlcG9zL2Y5LzYyL2Y5NjI0ODAyYzFiZTIyMzJlNmZlYzg4OTY0ZjlkYWNiMzQwMDA4NTYzNzUxMTg4NWM0MzQwNDUxZDkxZWY5NTgvYjFiYTdiMmNlNGNiNWVhNmVmNDJkY2E0MDI2M2VhYmI4NWYzNzcwMGQwMTY5M2E2OGU5YjMwYTMxZDc4ZTg3MT9yZXNwb25zZS1jb250ZW50LWRpc3Bvc2l0aW9uPSoifV19&Signature=fSupplkFkuKc6HWNvIBz6o6YBOAtV7AbRL4Mf~dOPiuFlHGPOkMRLPIthLM-C~cmIZkKxw0bjDFvckJ9tq1hcv9caNV0-Y3TOKhtX5nfU68gTh-ujOrs9jrSlOUFsB2xBanOwkfgCZxM0v32aNjch7lvmJp4fehcknR9ETC4rSjrCYI1~hlcZx9OzziloLEPqK5zIMDLl3DiyjiHt4qG33eqQSC2~GB3P2fwSImL7iX-O5WxBJ94dNj5WOGQ7iZS1zKMyzwzw-cAb7uNK1MKtQ8OVCGgB96HlLoK~2HjuFQNb1~GdlOcTXkhX0bVUfEf8EhOdoYMpnUzRGNUTVIzKQ__&Key-Pair-Id=K24J24Z295AEI9 (Caused by NewConnectionError('<urllib3.connection.HTTPSConnection object at 0x30eadbc50>: Failed to establish a new connection: [Errno 61] Connection refused'))\"), '(Request ID: db613c95-3623-4af8-9592-cdc2d426f654)')' thrown while requesting GET https://huggingface.co/datasets/HuggingFaceFW/fineweb-edu/resolve/4863ab07d7520451e6f73e2912ad8bfee7d97c11/sample/10BT/000_00000.parquet\n",
      "Retrying in 1s [Retry 1/5].\n",
      "'(MaxRetryError(\"HTTPSConnectionPool(host='cdn-lfs-us-1.hf.co', port=443): Max retries exceeded with url: /repos/f9/62/f9624802c1be2232e6fec88964f9dacb3400085637511885c4340451d91ef958/b1ba7b2ce4cb5ea6ef42dca40263eabb85f37700d01693a68e9b30a31d78e871?response-content-disposition=inline%3B+filename*%3DUTF-8%27%27000_00000.parquet%3B+filename%3D%22000_00000.parquet%22%3B&Expires=1744462675&Policy=eyJTdGF0ZW1lbnQiOlt7IkNvbmRpdGlvbiI6eyJEYXRlTGVzc1RoYW4iOnsiQVdTOkVwb2NoVGltZSI6MTc0NDQ2MjY3NX19LCJSZXNvdXJjZSI6Imh0dHBzOi8vY2RuLWxmcy11cy0xLmhmLmNvL3JlcG9zL2Y5LzYyL2Y5NjI0ODAyYzFiZTIyMzJlNmZlYzg4OTY0ZjlkYWNiMzQwMDA4NTYzNzUxMTg4NWM0MzQwNDUxZDkxZWY5NTgvYjFiYTdiMmNlNGNiNWVhNmVmNDJkY2E0MDI2M2VhYmI4NWYzNzcwMGQwMTY5M2E2OGU5YjMwYTMxZDc4ZTg3MT9yZXNwb25zZS1jb250ZW50LWRpc3Bvc2l0aW9uPSoifV19&Signature=QZ0ns7H4FiMoVY7DN86QeqoHeKimip4AkS7lLxXXmuB2lyRcEu4M5meVLcasnmuM6pTSiA0bFrPXbwZRpymKXnarhxB96cav2TB5TKsXL3hx-kxi5MzG7AZ~PFFSHmuNykmBT4r08fcz5O19OeetJ-71PLyjt7IjaEGWLJSGSy6aDy9ab9kR0-nxvNeYWS~z-okEAenfCCV2etgILhWhqI1o5~fykLct-nZ25WZPOG7iMSuM99x8pgCPEat-KxEnTLOk4jMW2LrJP48R8R8xkT04r4pNAQ6DvJcOQyS32kw8x1GQHYRFCWudqYQjNsEBhb7m9zQLp6JGdUuXhw0h4Q__&Key-Pair-Id=K24J24Z295AEI9 (Caused by NewConnectionError('<urllib3.connection.HTTPSConnection object at 0x174ddfe60>: Failed to establish a new connection: [Errno 61] Connection refused'))\"), '(Request ID: 57840280-61a0-410a-95ef-ac245bf9fe42)')' thrown while requesting GET https://huggingface.co/datasets/HuggingFaceFW/fineweb-edu/resolve/4863ab07d7520451e6f73e2912ad8bfee7d97c11/sample/10BT/000_00000.parquet\n",
      "Retrying in 2s [Retry 2/5].\n",
      "'(MaxRetryError(\"HTTPSConnectionPool(host='cdn-lfs-us-1.hf.co', port=443): Max retries exceeded with url: /repos/f9/62/f9624802c1be2232e6fec88964f9dacb3400085637511885c4340451d91ef958/b1ba7b2ce4cb5ea6ef42dca40263eabb85f37700d01693a68e9b30a31d78e871?response-content-disposition=inline%3B+filename*%3DUTF-8%27%27000_00000.parquet%3B+filename%3D%22000_00000.parquet%22%3B&Expires=1744462124&Policy=eyJTdGF0ZW1lbnQiOlt7IkNvbmRpdGlvbiI6eyJEYXRlTGVzc1RoYW4iOnsiQVdTOkVwb2NoVGltZSI6MTc0NDQ2MjEyNH19LCJSZXNvdXJjZSI6Imh0dHBzOi8vY2RuLWxmcy11cy0xLmhmLmNvL3JlcG9zL2Y5LzYyL2Y5NjI0ODAyYzFiZTIyMzJlNmZlYzg4OTY0ZjlkYWNiMzQwMDA4NTYzNzUxMTg4NWM0MzQwNDUxZDkxZWY5NTgvYjFiYTdiMmNlNGNiNWVhNmVmNDJkY2E0MDI2M2VhYmI4NWYzNzcwMGQwMTY5M2E2OGU5YjMwYTMxZDc4ZTg3MT9yZXNwb25zZS1jb250ZW50LWRpc3Bvc2l0aW9uPSoifV19&Signature=Kz3sSFJl6sQpJCa~mBxShNTLovzPxGGfloQdJtDbnvLweVTG0iK0D9IYxVlS2uVnQDIUup02ug5uRVjFHTiIlGkEbEte3~zMJFsXxk1vPbO~48Qm9ycadxpMd1~o6362bOsrt4XnilaNsASGyD8xscza0FEJLrdHah-q7Hj6AdAV9diNLsQNDEs98xZ672G7sKK1FSWuuq5cK6R8~FZVgC4A1LpcR1doYtdXgMbnA8eSw0gOO7ERDrt8iFPGJEolxteEj5sKtcasraI9ioMwGd0HbGBrOda~mUTrmG6oMD5y1izhp5g9cx3OBk5otLww6vL~iB4r350Op3rGliOB7w__&Key-Pair-Id=K24J24Z295AEI9 (Caused by NewConnectionError('<urllib3.connection.HTTPSConnection object at 0x30eb79ac0>: Failed to establish a new connection: [Errno 61] Connection refused'))\"), '(Request ID: 74e29272-852a-4e48-b370-7bf5a58227c0)')' thrown while requesting GET https://huggingface.co/datasets/HuggingFaceFW/fineweb-edu/resolve/4863ab07d7520451e6f73e2912ad8bfee7d97c11/sample/10BT/000_00000.parquet\n",
      "Retrying in 1s [Retry 1/5].\n",
      "'(MaxRetryError(\"HTTPSConnectionPool(host='cdn-lfs-us-1.hf.co', port=443): Max retries exceeded with url: /repos/f9/62/f9624802c1be2232e6fec88964f9dacb3400085637511885c4340451d91ef958/b1ba7b2ce4cb5ea6ef42dca40263eabb85f37700d01693a68e9b30a31d78e871?response-content-disposition=inline%3B+filename*%3DUTF-8%27%27000_00000.parquet%3B+filename%3D%22000_00000.parquet%22%3B&Expires=1744463913&Policy=eyJTdGF0ZW1lbnQiOlt7IkNvbmRpdGlvbiI6eyJEYXRlTGVzc1RoYW4iOnsiQVdTOkVwb2NoVGltZSI6MTc0NDQ2MzkxM319LCJSZXNvdXJjZSI6Imh0dHBzOi8vY2RuLWxmcy11cy0xLmhmLmNvL3JlcG9zL2Y5LzYyL2Y5NjI0ODAyYzFiZTIyMzJlNmZlYzg4OTY0ZjlkYWNiMzQwMDA4NTYzNzUxMTg4NWM0MzQwNDUxZDkxZWY5NTgvYjFiYTdiMmNlNGNiNWVhNmVmNDJkY2E0MDI2M2VhYmI4NWYzNzcwMGQwMTY5M2E2OGU5YjMwYTMxZDc4ZTg3MT9yZXNwb25zZS1jb250ZW50LWRpc3Bvc2l0aW9uPSoifV19&Signature=FVBIgTyG8BgVh7WJ8yw1UNlCewP-sf90AO8NEYqDW3m5R8mWIfqeDVxsYAItAnk17hw7Z351rfhibYvJqyS~kYKfLNM-ORG0TD9AayeTOwiGc63QDdsxqKhy3brcPYh3S5uHyiTo8NO8IbdLLPUUMOa0zPyPj2VT1DDyQdcO2tihhiHiaFxYZbVTthzZskAXvpyUweD4NYpu~Ywi~8s2G2r0EIShVgKFQAsQK6-eQowuvMwIH5Rt5u2bP6wg3oJvV37KMd2m1-OV9i13WE-pmeKWDYuwmIeq9lCHQLC-QvjnfqQ~f4FnJ2FwNOqrZG-jH0I5p2wjqKfViAX2bo6VCQ__&Key-Pair-Id=K24J24Z295AEI9 (Caused by NewConnectionError('<urllib3.connection.HTTPSConnection object at 0x30eb7b980>: Failed to establish a new connection: [Errno 61] Connection refused'))\"), '(Request ID: 5d8c880d-ea33-4d0b-aff3-962dd04262e2)')' thrown while requesting GET https://huggingface.co/datasets/HuggingFaceFW/fineweb-edu/resolve/4863ab07d7520451e6f73e2912ad8bfee7d97c11/sample/10BT/000_00000.parquet\n",
      "Retrying in 2s [Retry 2/5].\n",
      "'(MaxRetryError(\"HTTPSConnectionPool(host='cdn-lfs-us-1.hf.co', port=443): Max retries exceeded with url: /repos/f9/62/f9624802c1be2232e6fec88964f9dacb3400085637511885c4340451d91ef958/f836cd3c70b95776699eb6c356b2dbf702816e25dcf39992f5c80a29029d23c3?response-content-disposition=inline%3B+filename*%3DUTF-8%27%27009_00000.parquet%3B+filename%3D%22009_00000.parquet%22%3B&Expires=1744489652&Policy=eyJTdGF0ZW1lbnQiOlt7IkNvbmRpdGlvbiI6eyJEYXRlTGVzc1RoYW4iOnsiQVdTOkVwb2NoVGltZSI6MTc0NDQ4OTY1Mn19LCJSZXNvdXJjZSI6Imh0dHBzOi8vY2RuLWxmcy11cy0xLmhmLmNvL3JlcG9zL2Y5LzYyL2Y5NjI0ODAyYzFiZTIyMzJlNmZlYzg4OTY0ZjlkYWNiMzQwMDA4NTYzNzUxMTg4NWM0MzQwNDUxZDkxZWY5NTgvZjgzNmNkM2M3MGI5NTc3NjY5OWViNmMzNTZiMmRiZjcwMjgxNmUyNWRjZjM5OTkyZjVjODBhMjkwMjlkMjNjMz9yZXNwb25zZS1jb250ZW50LWRpc3Bvc2l0aW9uPSoifV19&Signature=cc~lNiOYiL9IHE9mtZDv-IY8-B44avwa-4IG9uKVGCZUUfrkDmIT6ABiO~24s3FarrGyrcoo0n-LjOejOt91VgEegTEF8pqFFtdbbe92jRuHyhsIXR0yORIMMF9SOQUq-nrXgMecuH-fpF6AU9rwaZV1z2iV0uoC7DlVS0SFJcOfAzPxgMGLvHapKrc0cx7fr0aVReVb0WO6iREI5h8f5HqA8QX4hNaLxzHdVKqmmrndM8lm3JqGrUTvioEPhBDOC93mwhzjcXfqiWKY~VRwl~9vZ78c5Pr6tvPnuED~YFt2Eq-mjgeJgk8s6Sw4RIo7Za5d6-jMLxxtn6WsbbrmIA__&Key-Pair-Id=K24J24Z295AEI9 (Caused by NewConnectionError('<urllib3.connection.HTTPSConnection object at 0x174dd7ef0>: Failed to establish a new connection: [Errno 61] Connection refused'))\"), '(Request ID: 38fac221-112d-4755-9d6d-9e8b32ab15f5)')' thrown while requesting GET https://huggingface.co/datasets/HuggingFaceFW/fineweb-edu/resolve/4863ab07d7520451e6f73e2912ad8bfee7d97c11/sample/10BT/009_00000.parquet\n",
      "Retrying in 1s [Retry 1/5].\n",
      "'(MaxRetryError(\"HTTPSConnectionPool(host='cdn-lfs-us-1.hf.co', port=443): Max retries exceeded with url: /repos/f9/62/f9624802c1be2232e6fec88964f9dacb3400085637511885c4340451d91ef958/f836cd3c70b95776699eb6c356b2dbf702816e25dcf39992f5c80a29029d23c3?response-content-disposition=inline%3B+filename*%3DUTF-8%27%27009_00000.parquet%3B+filename%3D%22009_00000.parquet%22%3B&Expires=1744489641&Policy=eyJTdGF0ZW1lbnQiOlt7IkNvbmRpdGlvbiI6eyJEYXRlTGVzc1RoYW4iOnsiQVdTOkVwb2NoVGltZSI6MTc0NDQ4OTY0MX19LCJSZXNvdXJjZSI6Imh0dHBzOi8vY2RuLWxmcy11cy0xLmhmLmNvL3JlcG9zL2Y5LzYyL2Y5NjI0ODAyYzFiZTIyMzJlNmZlYzg4OTY0ZjlkYWNiMzQwMDA4NTYzNzUxMTg4NWM0MzQwNDUxZDkxZWY5NTgvZjgzNmNkM2M3MGI5NTc3NjY5OWViNmMzNTZiMmRiZjcwMjgxNmUyNWRjZjM5OTkyZjVjODBhMjkwMjlkMjNjMz9yZXNwb25zZS1jb250ZW50LWRpc3Bvc2l0aW9uPSoifV19&Signature=lNCQICpgOR8vg0I840fYYslnd2cpvxEXpNv4GnDURnwDJ0EmSa2pvnFyuotfjwEyi0lG9cXMVLgYsqoAYHX9krApW4ZU0EedUWoXnVmEog89qeFT9cf788G310NCKgHiSRNLeNmvHBisoByg2QwTanUlHxxPmifxhdsbEWbsrP9VMBbrV7~~oJ16hj8iCO0ycQYq162zB0agvC07IqQBaUlk2V~ZDjAd4yhwuRkaKVolYNKwgosYRSLYa8G8d3UYJWzLhUuk5kEpCvvq9KMzBOwQyrS9kR~dQSKhFxNyRzKymvDqustnwaoSU~AEymMp4B2Qiigq9W~4oFFT0gndSQ__&Key-Pair-Id=K24J24Z295AEI9 (Caused by NewConnectionError('<urllib3.connection.HTTPSConnection object at 0x30e6ce1b0>: Failed to establish a new connection: [Errno 61] Connection refused'))\"), '(Request ID: b5a4a03e-e1d5-4c58-92e4-d657512b1899)')' thrown while requesting GET https://huggingface.co/datasets/HuggingFaceFW/fineweb-edu/resolve/4863ab07d7520451e6f73e2912ad8bfee7d97c11/sample/10BT/009_00000.parquet\n",
      "Retrying in 2s [Retry 2/5].\n",
      "'(MaxRetryError(\"HTTPSConnectionPool(host='cdn-lfs-us-1.hf.co', port=443): Max retries exceeded with url: /repos/f9/62/f9624802c1be2232e6fec88964f9dacb3400085637511885c4340451d91ef958/08b47a3e1c25161f796d2f8dbf99ccf60affdebdcea4910833d0d5783315551f?response-content-disposition=inline%3B+filename*%3DUTF-8%27%27012_00000.parquet%3B+filename%3D%22012_00000.parquet%22%3B&Expires=1744501746&Policy=eyJTdGF0ZW1lbnQiOlt7IkNvbmRpdGlvbiI6eyJEYXRlTGVzc1RoYW4iOnsiQVdTOkVwb2NoVGltZSI6MTc0NDUwMTc0Nn19LCJSZXNvdXJjZSI6Imh0dHBzOi8vY2RuLWxmcy11cy0xLmhmLmNvL3JlcG9zL2Y5LzYyL2Y5NjI0ODAyYzFiZTIyMzJlNmZlYzg4OTY0ZjlkYWNiMzQwMDA4NTYzNzUxMTg4NWM0MzQwNDUxZDkxZWY5NTgvMDhiNDdhM2UxYzI1MTYxZjc5NmQyZjhkYmY5OWNjZjYwYWZmZGViZGNlYTQ5MTA4MzNkMGQ1NzgzMzE1NTUxZj9yZXNwb25zZS1jb250ZW50LWRpc3Bvc2l0aW9uPSoifV19&Signature=DQe4~8R4DOrBPLn~w7uVbquH48bPC4CfPuPf-Yuac4SrDUuiosDw2sQq5dK4t1bvSsWJ~m2MBzqbT5fTQEmKYaU8LF0uZHWCCf39gJGVHmVP8xjKrloNGWqpvZti4vIZxgWjarxU4KLdvSvP09efEJ7LuXILz3hJm6aeQproxhOEDD4OSe125vDONHagA9QLioorwHwqYgUyaj7ukpJB3EqbwvwYkhKqv2YQ8WFJGb68s0RZjAeBSaoEFmv-rufiIKpgzuA4~msfObUIxW~YuTF2x5OwmrwJ~818kV-CkkOV0NubjvKOodoI8xyMs8jFjW0zZJOnpTPb1zTTLeEErw__&Key-Pair-Id=K24J24Z295AEI9 (Caused by NewConnectionError('<urllib3.connection.HTTPSConnection object at 0x174de6000>: Failed to establish a new connection: [Errno 61] Connection refused'))\"), '(Request ID: 81ecce10-f285-467a-94fc-1697492bec7c)')' thrown while requesting GET https://huggingface.co/datasets/HuggingFaceFW/fineweb-edu/resolve/4863ab07d7520451e6f73e2912ad8bfee7d97c11/sample/10BT/012_00000.parquet\n",
      "Retrying in 1s [Retry 1/5].\n"
     ]
    }
   ],
   "source": [
    "context_size = 128\n",
    "input_size = 128\n",
    "\n",
    "# 2**20 ~ 1GB\n",
    "writer = HDF5ShardWriter(output_dir='./Fineweb-edu', shard_size=2**20, context_shape=(context_size,), input_shape=(input_size,), compression=\"gzip\")\n",
    "for sample in dataset_tokenizer(fineweb_edu, tokenizer, context_size, input_size):\n",
    "    writer.write(*sample)\n"
   ]
  }
 ],
 "metadata": {
  "kernelspec": {
   "display_name": ".venv",
   "language": "python",
   "name": "python3"
  },
  "language_info": {
   "codemirror_mode": {
    "name": "ipython",
    "version": 3
   },
   "file_extension": ".py",
   "mimetype": "text/x-python",
   "name": "python",
   "nbconvert_exporter": "python",
   "pygments_lexer": "ipython3",
   "version": "3.12.9"
  }
 },
 "nbformat": 4,
 "nbformat_minor": 2
}
